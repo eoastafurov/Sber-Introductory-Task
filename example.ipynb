{
 "metadata": {
  "orig_nbformat": 2,
  "kernelspec": {
   "name": "miptml",
   "display_name": "MiptML",
   "language": "python"
  }
 },
 "nbformat": 4,
 "nbformat_minor": 2,
 "cells": [
  {
   "cell_type": "code",
   "execution_count": 1,
   "metadata": {},
   "outputs": [],
   "source": [
    "from popularity_model import PopularityModel\n",
    "from datamanager import DataManager\n",
    "from evaluation import ModelEvaluator\n",
    "from collaborative_model import CollaborativeLatentFactorSVDModel\n",
    "\n",
    "%load_ext autoreload\n",
    "%autoreload 2"
   ]
  },
  {
   "cell_type": "code",
   "execution_count": 2,
   "metadata": {},
   "outputs": [],
   "source": [
    "DATA_DIR = 'data'"
   ]
  },
  {
   "cell_type": "code",
   "execution_count": 4,
   "metadata": {},
   "outputs": [
    {
     "output_type": "stream",
     "name": "stdout",
     "text": [
      "\u001b[31minteractions\u001b[0m\n   user_id  item_id  has_interaction\n0        0     3568              1.0\n1        0     3827              1.0\n2        0     4844              1.0\n3        0     5734              1.0\n4        0     6518              1.0\n\n\n\u001b[31musers\u001b[0m\n   user_id  user_age  region_id\n0        2       1.0          5\n1        7       1.0          6\n2       10       1.0          7\n3       12       1.0          7\n4       13       1.0          7\n\n\n\u001b[31mitems\u001b[0m\n   item_id  item_category_id  item_price  item_asset\n0        0               679    0.012911    0.009497\n1        1              1376    0.005211    0.004226\n2        2              1495    0.004131    0.003371\n3        3               502    0.003521    0.002991\n4        4               502    0.003521    0.002991\n\n\n"
     ]
    }
   ],
   "source": [
    "dm = DataManager(DATA_DIR,train_split=0.8)\n",
    "\n",
    "dm.setup(verbose=False)\n",
    "dm.describe(info=False, describe=False, head=True)"
   ]
  },
  {
   "cell_type": "code",
   "execution_count": 5,
   "metadata": {},
   "outputs": [
    {
     "output_type": "stream",
     "name": "stdout",
     "text": [
      "Train size: 318908\nTest size:  79728\n"
     ]
    }
   ],
   "source": [
    "train_data = dm.get_train_data()\n",
    "test_data = dm.get_test_data()\n",
    "full_data = dm.data\n",
    "\n",
    "print('Train size:', len(train_data['interactions']))\n",
    "print('Test size: ', len(test_data['interactions']))"
   ]
  },
  {
   "source": [
    "## Popularity model"
   ],
   "cell_type": "markdown",
   "metadata": {}
  },
  {
   "cell_type": "code",
   "execution_count": 6,
   "metadata": {},
   "outputs": [
    {
     "output_type": "stream",
     "name": "stderr",
     "text": [
      "1000it [00:05, 174.34it/s]\n"
     ]
    },
    {
     "output_type": "execute_result",
     "data": {
      "text/plain": [
       "{'recall@10': 0.138, 'map@10': 0.0026007936507936504}"
      ]
     },
     "metadata": {},
     "execution_count": 6
    }
   ],
   "source": [
    "pm = PopularityModel(train_data['items'])\n",
    "pm.fit(train_data['interactions'])\n",
    "\n",
    "ev = ModelEvaluator(pm, test_data, full_data, train_data)\n",
    "global_metrics, detailed_results_df = ev.evaluate_model(num_values=1000)\n",
    "global_metrics"
   ]
  },
  {
   "source": [
    "## Collaborative Filtration model"
   ],
   "cell_type": "markdown",
   "metadata": {}
  },
  {
   "cell_type": "code",
   "execution_count": 40,
   "metadata": {},
   "outputs": [
    {
     "output_type": "execute_result",
     "data": {
      "text/plain": [
       "<collaborative_model.CollaborativeLatentFactorSVDModel at 0x7fc6651b9490>"
      ]
     },
     "metadata": {},
     "execution_count": 40
    }
   ],
   "source": [
    "clfm = CollaborativeLatentFactorSVDModel(50)\n",
    "clfm.fit(train_interactions_df=train_data['interactions'])"
   ]
  },
  {
   "cell_type": "code",
   "execution_count": 44,
   "metadata": {},
   "outputs": [
    {
     "output_type": "stream",
     "name": "stderr",
     "text": [
      "1000it [00:11, 87.96it/s]\n"
     ]
    },
    {
     "output_type": "execute_result",
     "data": {
      "text/plain": [
       "{'recall@10': 0.087, 'map@10': 0.0010898148148148147}"
      ]
     },
     "metadata": {},
     "execution_count": 44
    }
   ],
   "source": [
    "ev_colab = ModelEvaluator(clfm, test_data, full_data, train_data)\n",
    "global_metrics, detailed_results_df = ev_colab.evaluate_model(num_values=1000)\n",
    "global_metrics"
   ]
  }
 ]
}